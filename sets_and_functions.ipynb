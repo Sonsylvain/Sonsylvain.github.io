{
  "nbformat": 4,
  "nbformat_minor": 0,
  "metadata": {
    "colab": {
      "provenance": [],
      "authorship_tag": "ABX9TyOl5i5uGrBrYAPRncamwyDu",
      "include_colab_link": true
    },
    "kernelspec": {
      "name": "python3",
      "display_name": "Python 3"
    },
    "language_info": {
      "name": "python"
    }
  },
  "cells": [
    {
      "cell_type": "markdown",
      "metadata": {
        "id": "view-in-github",
        "colab_type": "text"
      },
      "source": [
        "<a href=\"https://colab.research.google.com/github/Sonsylvain/Sonsylvain.github.io/blob/main/sets_and_functions.ipynb\" target=\"_parent\"><img src=\"https://colab.research.google.com/assets/colab-badge.svg\" alt=\"Open In Colab\"/></a>"
      ]
    },
    {
      "cell_type": "code",
      "execution_count": 21,
      "metadata": {
        "colab": {
          "base_uri": "https://localhost:8080/"
        },
        "id": "oSD1jXRcPtIr",
        "outputId": "1d082ac9-c7dd-4849-bf0b-80c85113eac7"
      },
      "outputs": [
        {
          "output_type": "execute_result",
          "data": {
            "text/plain": [
              "set()"
            ]
          },
          "metadata": {},
          "execution_count": 21
        }
      ],
      "source": [
        "# python SET operations\n",
        "a = {1, 2, 3, 4, 5}\n",
        "b = {3, 4, 5, 6, 7, 8}\n",
        "a|b # a.union(b)\n",
        "a&b # a.intersection(b)\n",
        "a.add(9) # adding an element\n",
        "a.remove(9) # removing an element\n",
        "a |= b # a.update(b) : set the contents of a to be the union of the elements a and b\n",
        "a &= b # a.intersection_update(b) : set the contents of a to be the intersection of a and b\n",
        "a-b # a.difference(b): elements in a that are not in b\n",
        "a-=b # a.difference_update(b) : set a to be the difference of a and b\n",
        "a^b # a.symmetric_difference(b) : elements in a or b but not both\n",
        "a^=b # a.symmetric_difference_update(b) : set a to be the symmetric difference of a and b\n",
        "a.isdisjoint(b) # True if a and b have no elements in common\n",
        "a.issubset(b) # True if a is a subset of b\n",
        "a.issuperset(b) # True if a is a superset of b\n",
        "\n",
        "\n"
      ]
    },
    {
      "cell_type": "code",
      "source": [
        "a_set = {1, 2, 3, 4, 5}\n",
        "{1, 2, 3}.issubset(a_set)\n",
        "a_set.issuperset({1, 2, 3})\n",
        "{1, 2, 3} == {3, 2, 1}\n",
        "\n",
        "# making sets have the same value\n",
        "a = {1, 2, 3, 4, 5}\n",
        "b = {3, 4, 5, 6, 7, 8}\n",
        "a |= b\n",
        "a &= b\n",
        "\n",
        "a == b\n",
        "\n"
      ],
      "metadata": {
        "colab": {
          "base_uri": "https://localhost:8080/"
        },
        "id": "rQ8DCTO-Vifu",
        "outputId": "9a606686-4bac-466f-d5b4-29b5be138886"
      },
      "execution_count": 30,
      "outputs": [
        {
          "output_type": "execute_result",
          "data": {
            "text/plain": [
              "True"
            ]
          },
          "metadata": {},
          "execution_count": 30
        }
      ]
    },
    {
      "cell_type": "code",
      "source": [
        "#             Built-In Sequence Functions\n",
        "# enumerate : it is common when iterating over a sequence to want to keep track of the index of the current item\n",
        "collection = ['apple', 'banana', 'cherry']\n",
        "\n",
        "index = 0\n",
        "for value in collection:\n",
        "    print(f\"Index: {index}, Value: {value}\") # it output three iterated vlues and their index, but this is manually generated, lets see with the use of enumerate\n",
        "    index += 1\n",
        "# use of Enumerate : The enumerate() function provides a cleaner way to achieve the same result by automatically tracking the index.\n",
        "for index, value in enumerate(collection):\n",
        "    print(f\"Index: {index}, Value: {value}\")\n",
        "\n",
        "\n",
        "\n",
        "\n"
      ],
      "metadata": {
        "colab": {
          "base_uri": "https://localhost:8080/"
        },
        "id": "Rota9XmtcKzX",
        "outputId": "a264c6bc-163a-4dc3-a05d-1ba2ebeef3fc"
      },
      "execution_count": 33,
      "outputs": [
        {
          "output_type": "stream",
          "name": "stdout",
          "text": [
            "Index: 0, Value: apple\n",
            "Index: 1, Value: banana\n",
            "Index: 2, Value: cherry\n"
          ]
        }
      ]
    },
    {
      "cell_type": "code",
      "source": [
        "# sorted : the sorted function returns a new sorted liat from the elements of any sequence\n",
        "sorted([7, 1, 2, 6, 0, 3, 2]) # it can sort numbers\n",
        "sorted([\"even\", \"odd\", \"abbas\", \"bold\", \"cold\"]) # ot can sort string of alphabets\n",
        "sorted(\"horse race\") # it can sort string\n",
        "\n",
        "# zip : “pairs” up the elements of a number of lists, tuples, or other sequences to create a list of tuples\n",
        "seq1 = ['foo', 'bar', 'baz']\n",
        "seq2 = ['one', 'two', 'three']\n",
        "zipped = zip(seq1, seq2)\n",
        "list(zipped)\n",
        "# A common use of zip is simultaneously iterating over multiple sequences, possibly also combined with enumerate:\n",
        "for index, (a, b) in enumerate(zip(seq1, seq2)):\n",
        "    print(f\"{index}: {a}, {b}\")\n",
        "\n",
        "# reversed: iterates over the elements of a sequence in reverse order:\n",
        "list(reversed(range(10))) # you must turn into a list to see the output"
      ],
      "metadata": {
        "colab": {
          "base_uri": "https://localhost:8080/"
        },
        "id": "sHEjZl26ey5U",
        "outputId": "3fcc5482-e468-4ebb-d1e1-593366f4628f"
      },
      "execution_count": 49,
      "outputs": [
        {
          "output_type": "stream",
          "name": "stdout",
          "text": [
            "0: foo, one\n",
            "1: bar, two\n",
            "2: baz, three\n"
          ]
        },
        {
          "output_type": "execute_result",
          "data": {
            "text/plain": [
              "[9, 8, 7, 6, 5, 4, 3, 2, 1, 0]"
            ]
          },
          "metadata": {},
          "execution_count": 49
        }
      ]
    },
    {
      "cell_type": "code",
      "source": [
        "# using unifying two lists into a set and sort them into a dictionary with respect to their letters and having a key letter of their group\n",
        "seq1 = ['foo', 'bar', 'baz']\n",
        "seq2 = ['one', 'two', 'three']\n",
        "set_1 = set(seq1)\n",
        "set_2 = set(seq2)\n",
        "unified = set_1.union(set_2)\n",
        "\n",
        "dict_all = {}\n",
        "for word in unified:\n",
        "  letter = word[0]\n",
        "  if letter not in dict_all:\n",
        "    dict_all[letter] = [word]\n",
        "  else:\n",
        "    dict_all[letter].append(word)\n",
        "print(dict_all)"
      ],
      "metadata": {
        "colab": {
          "base_uri": "https://localhost:8080/"
        },
        "id": "eGbt1ViZgJrL",
        "outputId": "15bc112a-e3cf-4428-87bf-65cbe754b4c0"
      },
      "execution_count": 39,
      "outputs": [
        {
          "output_type": "stream",
          "name": "stdout",
          "text": [
            "{'b': ['bar', 'baz'], 'o': ['one'], 'f': ['foo'], 't': ['two', 'three']}\n"
          ]
        }
      ]
    },
    {
      "cell_type": "code",
      "source": [
        "\n"
      ],
      "metadata": {
        "colab": {
          "base_uri": "https://localhost:8080/"
        },
        "id": "GmKpgYGKkS0x",
        "outputId": "6882c136-db22-4daa-a264-f9049b596fce"
      },
      "execution_count": 48,
      "outputs": [
        {
          "output_type": "stream",
          "name": "stdout",
          "text": [
            "['abbas', 'bold', 'cold', 'even', 'odd']\n"
          ]
        }
      ]
    }
  ]
}