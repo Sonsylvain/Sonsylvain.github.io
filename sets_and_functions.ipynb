{
  "nbformat": 4,
  "nbformat_minor": 0,
  "metadata": {
    "colab": {
      "provenance": [],
      "authorship_tag": "ABX9TyOOGi2Ay0icJ5Hh/KH1elTX",
      "include_colab_link": true
    },
    "kernelspec": {
      "name": "python3",
      "display_name": "Python 3"
    },
    "language_info": {
      "name": "python"
    }
  },
  "cells": [
    {
      "cell_type": "markdown",
      "metadata": {
        "id": "view-in-github",
        "colab_type": "text"
      },
      "source": [
        "<a href=\"https://colab.research.google.com/github/Sonsylvain/Sonsylvain.github.io/blob/main/sets_and_functions.ipynb\" target=\"_parent\"><img src=\"https://colab.research.google.com/assets/colab-badge.svg\" alt=\"Open In Colab\"/></a>"
      ]
    },
    {
      "cell_type": "code",
      "source": [
        "#                                                                Creating dictionaries from sequences\n",
        "\n",
        "# joinning sequences by defining renge of sequence\n",
        "key_list = list(range(5))                          # This only works with a defined range, once if exceeds it just provides an Error \" Out of range\"\n",
        "value_list = list(reversed(range(5)))              # and how to solve this once we have extra values within value set-- with use Default value method mentioned in 3rd cell\n",
        "def zip(key_list, value_list):\n",
        "    result = {}\n",
        "    for i in range(len(key_list)):\n",
        "        result[key_list[i]] = value_list[i]\n",
        "    return result\n",
        "mapping = dict(zip(key_list, value_list))\n",
        "print(mapping) # Output: {0: 4, 1: 3, 2: 2, 3: 1, 4: 0}\n",
        "\n",
        "\n",
        "\n",
        "# Default Values\n",
        "key_list = list(range(5))\n",
        "value_list = list(reversed(range(5)))\n",
        "def zip(key_list, value_list, default = None):\n",
        "    result = {}\n",
        "    for i in range(len(key_list)):\n",
        "      if i > len(value_list):\n",
        "        result[key_list[i]] = value_list[i]\n",
        "      else:\n",
        "        result[key_list[i]] = default\n",
        "    return result\n",
        "mapping = dict(zip(key_list, value_list))\n",
        "print(mapping) # Output: {0: None, 1: None, 2: None, 3: None, 4: None}\n",
        "\n",
        "\n",
        "\n",
        "\n",
        "# joining sequnces with a defined set of objects\n",
        "keys = ['name', 'age', 'city']\n",
        "values = ['Alice', 25, 'New York']\n",
        "def zip(keys, values):\n",
        "    result = {}\n",
        "    for i in range(len(keys)):\n",
        "        result[keys[i]] = values[i]\n",
        "    return result\n",
        "person = dict(zip(keys, values))\n",
        "print(person)  # Output: {'name': 'Alice', 'age': 25, 'city': 'New York'}\n",
        "\n",
        "\n",
        "\n",
        "\n",
        "words = [\"apple\", \"bat\", \"bar\", \"atom\", \"book\", \"car\", \"dog\"]\n",
        "by_letter = {}\n",
        "for word in words:\n",
        "  letter = word[0]# when you try to display an index in a set of array, every index presents the first leter of each element in the array.\n",
        "  if letter not in by_letter:\n",
        "    by_letter[letter] = [word]\n",
        "  else:\n",
        "    by_letter[letter].append(word)\n",
        "print(by_letter) # output: {'a': ['apple', 'atom'], 'b': ['bat', 'bar', 'book']}  dictionary from sequence by grouping keys to their corresponding values.\n",
        "\n",
        "from collections import defaultdict  # collection mudule: The built-in collections module has a useful class, defaultdict, which makes this even easier.\n",
        "by_letter = defaultdict(list) # this sets automaical keys to specified values without any a manual process defined earlier\n",
        "for word in words:\n",
        "  by_letter[word[0]].append(word)\n",
        "print(by_letter)\n",
        "\n",
        "\n",
        "\n",
        "\n",
        "hash(\"string\")\n",
        "hash((1, 2, (2, 3))) # hash values\n",
        "\n",
        "\n",
        "d = {}\n",
        "d[tuple([1, 2, 3])] = 5 # assigning a key(list) to a certain value by first conveting it into a hash object\n",
        "d\n",
        "\n",
        "\n",
        "\n",
        "# SET: is an ordered collection of unique elements. A set can be  created in two ways: via the set function or via a set literal with curly braces:\n",
        "set_curly = {2, 2, 2, 1, 3, 3, 7, 7} # set presented by curly braces\n",
        "set_function = set([2, 2, 2, 1, 3, 3, 7, 7]) # set presented by function of set\n",
        "print(set_curly)\n",
        "print(set_function)\n",
        "\n",
        "#Union\n",
        "a = {1, 2, 3, 4, 5}\n",
        "b = {3, 4, 5, 6, 7, 8}\n",
        "union = a.union(b)\n",
        "print(union)\n",
        "\n",
        "intersect = a.intersection(b)\n",
        "print(intersect)\n",
        "\n",
        "notin = a.difference_update(b)\n",
        "print(notin)\n",
        "\n",
        "# python SET operations\n",
        "a = {1, 2, 3, 4, 5}\n",
        "b = {3, 4, 5, 6, 7, 8}\n",
        "a|b # a.union(b)\n",
        "a&b # a.intersection(b)\n",
        "a.add(9) # adding an element\n",
        "a.remove(9) # removing an element\n",
        "a |= b # a.update(b) : set the contents of a to be the union of the elements a and b\n",
        "a &= b # a.intersection_update(b) : set the contents of a to be the intersection of a and b\n",
        "a-b # a.difference(b): elements in a that are not in b\n",
        "a-=b # a.difference_update(b) : set a to be the difference of a and b\n",
        "a^b # a.symmetric_difference(b) : elements in a or b but not both\n",
        "a^=b # a.symmetric_difference_update(b) : set a to be the symmetric difference of a and b\n",
        "a.isdisjoint(b) # True if a and b have no elements in common\n",
        "a.issubset(b) # True if a is a subset of b\n",
        "a.issuperset(b) # True if a is a superset of b\n",
        "\n",
        "\n",
        "a_set = {1, 2, 3, 4, 5}\n",
        "{1, 2, 3}.issubset(a_set)\n",
        "a_set.issuperset({1, 2, 3})\n",
        "{1, 2, 3} == {3, 2, 1}\n",
        "\n",
        "# making sets have the same value\n",
        "a = {1, 2, 3, 4, 5}\n",
        "b = {3, 4, 5, 6, 7, 8}\n",
        "a |= b\n",
        "a &= b\n",
        "\n",
        "a == b\n",
        "\n",
        "\n",
        "#             Built-In Sequence Functions\n",
        "# enumerate : it is common when iterating over a sequence to want to keep track of the index of the current item\n",
        "collection = ['apple', 'banana', 'cherry']\n",
        "\n",
        "index = 0\n",
        "for value in collection:\n",
        "    print(f\"Index: {index}, Value: {value}\") # it output three iterated vlues and their index, but this is manually generated, lets see with the use of enumerate\n",
        "    index += 1\n",
        "# use of Enumerate : The enumerate() function provides a cleaner way to achieve the same result by automatically tracking the index.\n",
        "for index, value in enumerate(collection):\n",
        "    print(f\"Index: {index}, Value: {value}\")\n",
        "\n",
        "\n",
        "# sorted : the sorted function returns a new sorted liat from the elements of any sequence\n",
        "sorted([7, 1, 2, 6, 0, 3, 2]) # it can sort numbers\n",
        "sorted([\"even\", \"odd\", \"abbas\", \"bold\", \"cold\"]) # ot can sort string of alphabets\n",
        "sorted(\"horse race\") # it can sort string\n",
        "\n",
        "# zip : “pairs” up the elements of a number of lists, tuples, or other sequences to create a list of tuples\n",
        "seq1 = ['foo', 'bar', 'baz']\n",
        "seq2 = ['one', 'two', 'three']\n",
        "zipped = zip(seq1, seq2)\n",
        "list(zipped)\n",
        "# A common use of zip is simultaneously iterating over multiple sequences, possibly also combined with enumerate:\n",
        "for index, (a, b) in enumerate(zip(seq1, seq2)):\n",
        "    print(f\"{index}: {a}, {b}\")\n",
        "\n",
        "# reversed: iterates over the elements of a sequence in reverse order:\n",
        "list(reversed(range(10))) # you must turn into a list to see the output\n",
        "\n",
        "# using unifying two lists into a set and sort them into a dictionary with respect to their letters and having a key letter of their group\n",
        "seq1 = ['foo', 'bar', 'baz']\n",
        "seq2 = ['one', 'two', 'three']\n",
        "set_1 = set(seq1)\n",
        "set_2 = set(seq2)\n",
        "unified = set_1.union(set_2)\n",
        "\n",
        "dict_all = {}\n",
        "for word in unified:\n",
        "  letter = word[0]\n",
        "  if letter not in dict_all:\n",
        "    dict_all[letter] = [word]\n",
        "  else:\n",
        "    dict_all[letter].append(word)\n",
        "print(dict_all)"
      ],
      "metadata": {
        "id": "lbuMhaneoq3R"
      },
      "execution_count": null,
      "outputs": []
    },
    {
      "cell_type": "code",
      "source": [
        " #                                                      Comprehensions(Dictionaries, Sets)\n",
        "\n",
        "# A dictionary comprehension, allows you to create a dictionary from iterable in a single line using the following syntax:\n",
        "#dict_comp =  {key-expr: value-expr for value in collection if condition}\n",
        "# example:\n",
        "numbers = [1, 2, 3, 4, 5]\n",
        "dict_comp = {num: num**2 for num in numbers if num % 2 == 0}\n",
        "print(dict_comp) # even numbers comprehension dictionary with respect to their key number.\n",
        "\n",
        "# A set comprehension, same way of comprehension, it also uses curly braces but fro list there is no key as we all know:\n",
        "# set_comp = {expr for value in collection if condition}\n",
        "# example:\n",
        "set_comp = { num for num in numbers if num % 2 != 0  }\n",
        "print(set_comp) # odd number comprehension set.\n",
        "\n",
        "# 1\n",
        "strings = [\"apple\", \"hi\", \"dog\", \"banana\", \"cat\", \"a\"]\n",
        "unique_lengths = {len(x) for x in strings} # set comprehension into lengths at indexes of a difined collection\n",
        "print(unique_lengths)\n",
        "# 2\n",
        "set(map(len, strings)) # alternative way to turn into length set of a collectuion\n",
        "\n",
        "# Also we are going to create a lookup map of these strings for their locations in the list:\n",
        "loc_mapping = {value: index for index, value in enumerate(strings)}\n",
        "loc_mapping\n",
        "\n",
        "#                                               Nested List Comprehensions\n",
        "# 1\n",
        "all_data = [[\"John\", \"Emily\", \"Michael\", \"Mary\", \"Steven\"],\n",
        "       [\"Maria\", \"Juan\", \"Javier\", \"Natalia\", \"Pilar\"]]\n",
        "\n",
        "names_of_interest = []\n",
        "for names in all_data:\n",
        "        enough_as = [name for name in names if name.count(\"a\") >= 2]\n",
        "        names_of_interest.extend(enough_as)\n",
        "print(names_of_interest)\n",
        "\n",
        "#2\n",
        "result = [name for names in all_data for name in names\n",
        "             if name.count(\"a\") >= 2]\n",
        "print(result)\n"
      ],
      "metadata": {
        "colab": {
          "base_uri": "https://localhost:8080/"
        },
        "id": "DxaFlDYLVmHz",
        "outputId": "2eca7c89-3f53-4bd7-e8d9-ed2b31bfb088"
      },
      "execution_count": null,
      "outputs": [
        {
          "output_type": "stream",
          "name": "stdout",
          "text": [
            "{2: 4, 4: 16}\n",
            "{1, 3, 5}\n",
            "{1, 2, 3, 5, 6}\n",
            "['Maria', 'Natalia']\n",
            "['Maria', 'Natalia']\n"
          ]
        }
      ]
    },
    {
      "cell_type": "code",
      "source": [
        "# 1. Here is another example where we “flatten” a list of tuples of integers into a simple list of integers:\n",
        "some_tuples = [(1, 2, 3), (4, 5, 6), (7, 8, 9)]\n",
        "flattened = [x for tup in some_tuples for x in tup]\n",
        "flattened\n",
        "# 2. using a nested for loop instead of a liat comprehension:\n",
        "\n",
        "flattened = []\n",
        "for tup in some_tuples:\n",
        "    for x in tup:\n",
        "        flattened.append(x)\n",
        "flattened\n"
      ],
      "metadata": {
        "id": "33vy83n3gRcb",
        "outputId": "242c8635-1fae-425c-dbbc-71f355b10f36",
        "colab": {
          "base_uri": "https://localhost:8080/"
        }
      },
      "execution_count": null,
      "outputs": [
        {
          "output_type": "execute_result",
          "data": {
            "text/plain": [
              "[1, 2, 3, 4, 5, 6, 7, 8, 9]"
            ]
          },
          "metadata": {},
          "execution_count": 13
        }
      ]
    },
    {
      "cell_type": "code",
      "source": [
        "# Functions\n",
        "def my_function(x, y):\n",
        "  return x + y\n",
        "\n",
        "# Call the function\n",
        "my_function(1, 2)\n"
      ],
      "metadata": {
        "id": "bRQTI3YBhZ1U",
        "outputId": "270fdaa0-8fb7-4c7a-ab4e-e570376c9374",
        "colab": {
          "base_uri": "https://localhost:8080/"
        }
      },
      "execution_count": null,
      "outputs": [
        {
          "output_type": "execute_result",
          "data": {
            "text/plain": [
              "3"
            ]
          },
          "metadata": {},
          "execution_count": 14
        }
      ]
    },
    {
      "cell_type": "code",
      "source": [
        "#        Functions are objects\n",
        "# Suppose we are doing some data cleaning and needed to apply a bunch of transformations to the following list of strings:\n",
        "# User- submitted surveys: thise are type of messy data, and lots of things need to happen to make this list of strings uniform ready foranalysis:\n",
        "# stripping whitespace, removing punctuation symbols, snd standardizing proper capitalization. one way to do this is to use built in string methods along with the re standard library module for regular expressions:\n",
        "\n",
        "import re # imported module \"re\" regular expression(Regex)\n",
        "\n",
        "def clean_strings(strings):\n",
        "    result = []\n",
        "    for value in strings:\n",
        "        value = value.strip()  #Remove leading/trailing spaces: getting rid of spaces at the beginning (leading) and the end (trailing) of a string while keeping the text inside unchanged.\n",
        "        value = re.sub(\"[!#?]\", \"\", value) # responsible for replacing patterns in strings re.sub(pattern, replacement, string), pattern: A regex pattern that specifies what to search for, replace with, wich string\n",
        "        value = value.title()  # Convert to title case the leading character\n",
        "        result.append(value)\n",
        "    return result\n",
        "states = [\"   Alabama \", \"Georgia!\", \"Georgia\", \"georgia\", \"FlOrIda\",\n",
        "             \"south carolina##\", \"West virginia?\"]\n",
        "\n",
        "clean_strings(states)\n",
        "\n",
        "# Alternative approach\n",
        "def remove_punctuation(value):\n",
        "    return re.sub(\"[!#?]\", \"\", value)\n",
        "clean_ops = [str.strip, remove_punctuation, str.title]\n",
        "\n",
        "def clean_strings(strings, ops):\n",
        "    result = []\n",
        "    for value in strings:\n",
        "        for func in ops:\n",
        "            value = func(value)\n",
        "        result.append(value)\n",
        "    return result\n",
        "\n",
        "clean_strings(states, clean_ops)\n",
        "\n",
        "\n"
      ],
      "metadata": {
        "id": "lDxF4yHIvkbK",
        "outputId": "40a4a23f-9d06-4abb-c60f-e065e401760d",
        "colab": {
          "base_uri": "https://localhost:8080/"
        }
      },
      "execution_count": 10,
      "outputs": [
        {
          "output_type": "execute_result",
          "data": {
            "text/plain": [
              "['Alabama',\n",
              " 'Georgia',\n",
              " 'Georgia',\n",
              " 'Georgia',\n",
              " 'Florida',\n",
              " 'South Carolina',\n",
              " 'West Virginia']"
            ]
          },
          "metadata": {},
          "execution_count": 10
        }
      ]
    },
    {
      "cell_type": "code",
      "source": [
        "#     Anonymous (Lambda) Functions // Unkown value/Lambada\n",
        "\n",
        "def apply_to_list(some_list, f):\n",
        "      return [f(x) for x in some_list]\n",
        "\n",
        "ints = [4, 0, 1, 5, 6]\n",
        "\n",
        "apply_to_list(ints,  lambda x: x *2)# if we try to solve the argument without using Lambade it will turn into this error \"int' object is not callable\" means we we tried to use an int multiplying f(x)\n",
        "\n",
        "# As another example, suppose you wanted to sort a collection of strings by the number of distinct letters in each string:\n",
        "strings = [\"foo\", \"card\", \"bar\", \"aaaa\", \"abab\"]\n",
        "strings.sort(key=lambda x: len(set(x)))\n",
        "strings\n",
        "\n",
        "\n"
      ],
      "metadata": {
        "id": "FQ9OtxhNxKsh",
        "outputId": "52325cc0-6899-492e-82cc-d22e57c1ea42",
        "colab": {
          "base_uri": "https://localhost:8080/"
        }
      },
      "execution_count": 20,
      "outputs": [
        {
          "output_type": "execute_result",
          "data": {
            "text/plain": [
              "['aaaa', 'foo', 'abab', 'bar', 'card']"
            ]
          },
          "metadata": {},
          "execution_count": 20
        }
      ]
    },
    {
      "cell_type": "code",
      "source": [
        "# Generators: generators are like functions, they can return a sequence of multiple values by pausing and resuming execution each time the generator is used. To create a generator, use the yield instead of return.\n",
        "def squares(n=10):\n",
        "    print(f\"Generating squares from 1 to {n ** 2}\")\n",
        "    for i in range(1, n + 1):\n",
        "        yield i ** 2\n",
        "# When you actually call the generator, no code is immediately executed:\n",
        "gen = squares()\n",
        "gen\n",
        "# output: <generator object squares at 0x17d5fea40>\n",
        "\n",
        "# It is not until you request elements from the generator that it begins executing its code:\n",
        "for x in squares():\n",
        "  print(x, end=\" \")"
      ],
      "metadata": {
        "id": "1i9_2VRb-12x",
        "outputId": "fa9daeaf-2257-4381-dd77-566391660a17",
        "colab": {
          "base_uri": "https://localhost:8080/"
        }
      },
      "execution_count": 26,
      "outputs": [
        {
          "output_type": "stream",
          "name": "stdout",
          "text": [
            "Generating squares from 1 to 100\n",
            "1 4 9 16 25 36 49 64 81 100 "
          ]
        }
      ]
    },
    {
      "cell_type": "code",
      "source": [
        "# Genaerator Expressions"
      ],
      "metadata": {
        "id": "Pc9aJbVdGlYZ"
      },
      "execution_count": null,
      "outputs": []
    }
  ]
}